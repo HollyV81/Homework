{
 "cells": [
  {
   "cell_type": "code",
   "execution_count": 1,
   "metadata": {
    "collapsed": true
   },
   "outputs": [],
   "source": [
    "from bs4 import BeautifulSoup\n",
    "import requests\n",
    "import pymongo\n",
    "import pandas as pd\n",
    "from splinter import Browser\n",
    "from selenium import webdriver"
   ]
  },
  {
   "cell_type": "code",
   "execution_count": 2,
   "metadata": {
    "collapsed": true
   },
   "outputs": [],
   "source": [
    "url=\"https://mars.nasa.gov/news/\"\n",
    "# Retrieve page with the requests module\n",
    "html = requests.get(url)\n",
    "\n",
    "# Create BeautifulSoup object; parse with 'html.parser'\n",
    "soup = BeautifulSoup(html.text, 'html.parser')\n",
    "\n",
    "# Examine the results, then determine element that contains sought info\n",
    "# results are returned as an iterableli list\n",
    "mars_news = soup.find_all('div',  class_='slide', limit=1)"
   ]
  },
  {
   "cell_type": "code",
   "execution_count": 3,
   "metadata": {},
   "outputs": [
    {
     "name": "stdout",
     "output_type": "stream",
     "text": [
      "[<div class=\"slide\">\n",
      "<div class=\"image_and_description_container\">\n",
      "<a href=\"/news/8305/tiny-crystal-shapes-get-close-look-from-mars-rover/\">\n",
      "<div class=\"rollover_description\">\n",
      "<div class=\"rollover_description_inner\">\n",
      "Star-shaped, tiny, dark bumps in the fine-layered bright bedrock of a Martian ridge are drawing close inspection by NASA's Curiosity Mars rover.\n",
      "</div>\n",
      "<div class=\"overlay_arrow\">\n",
      "<img alt=\"More\" src=\"/assets/overlay-arrow.png\"/>\n",
      "</div>\n",
      "</div>\n",
      "<img alt=\"Tiny Crystal Shapes Get Close Look From Mars Rover\" class=\"img-lazy\" data-lazy=\"/system/news_items/list_view_images/8305_pia22213_320.jpg\" src=\"/assets/loading_320x240.png\"/>\n",
      "</a>\n",
      "</div>\n",
      "<div class=\"content_title\">\n",
      "<a href=\"/news/8305/tiny-crystal-shapes-get-close-look-from-mars-rover/\">\n",
      "Tiny Crystal Shapes Get Close Look From Mars Rover\n",
      "</a>\n",
      "</div>\n",
      "</div>]\n"
     ]
    }
   ],
   "source": [
    "print(mars_news)"
   ]
  },
  {
   "cell_type": "code",
   "execution_count": 4,
   "metadata": {
    "scrolled": true
   },
   "outputs": [
    {
     "name": "stdout",
     "output_type": "stream",
     "text": [
      "\n",
      "\n",
      "Tiny Crystal Shapes Get Close Look From Mars Rover\n",
      "\n",
      "\n",
      "\n",
      "Star-shaped, tiny, dark bumps in the fine-layered bright bedrock of a Martian ridge are drawing close inspection by NASA's Curiosity Mars rover.\n",
      "\n"
     ]
    }
   ],
   "source": [
    "for news in mars_news:\n",
    "    news_title=news.find(\"div\", class_=\"content_title\").text\n",
    "    news_desc= news.find(\"div\", class_=\"rollover_description_inner\").text\n",
    "    print(news_title)\n",
    "    print(news_desc)\n",
    "    \n",
    "    post={\n",
    "        \"News_Title\": news_title,\n",
    "        \"News_Paragraph\": news_desc\n",
    "    }"
   ]
  },
  {
   "cell_type": "code",
   "execution_count": 5,
   "metadata": {
    "collapsed": true
   },
   "outputs": [],
   "source": [
    "executable_path = {'executable_path': 'chromedriver.exe'}\n",
    "browser = Browser('chrome', **executable_path, headless=False)\n",
    "\n",
    "\n",
    "jpl_url = 'https://www.jpl.nasa.gov/spaceimages/?search=&category=Mars'\n",
    "browser.visit(jpl_url)"
   ]
  },
  {
   "cell_type": "code",
   "execution_count": 6,
   "metadata": {},
   "outputs": [],
   "source": [
    "html = browser.html\n",
    "soup = BeautifulSoup(html, 'html.parser')\n",
    "\n",
    "images= soup.find_all('div', class_=\"carousel_container\")"
   ]
  },
  {
   "cell_type": "code",
   "execution_count": 7,
   "metadata": {},
   "outputs": [
    {
     "name": "stdout",
     "output_type": "stream",
     "text": [
      "[<div class=\"carousel_container\">\n",
      "<div class=\"carousel_items\">\n",
      "<article alt=\"Vesta Sizes Up\" class=\"carousel_item\" style=\"background-image: url('/spaceimages/images/wallpaper/PIA14316-1920x1200.jpg');\">\n",
      "<div class=\"default floating_text_area ms-layer\">\n",
      "<h2 class=\"category_title\">\n",
      "</h2>\n",
      "<h2 class=\"brand_title\">\n",
      "\t\t\t\t  FEATURED IMAGE\n",
      "\t\t\t\t</h2>\n",
      "<h1 class=\"media_feature_title\">\n",
      "\t\t\t\t  Vesta Sizes Up\t\t\t\t</h1>\n",
      "<div class=\"description\">\n",
      "</div>\n",
      "<footer>\n",
      "<a class=\"button fancybox\" data-description=\"Vesta is the largest asteroid visited by a spacecraft. It is currently being observed by NASA's Dawn spacecraft, which has entered orbit around Vesta.\" data-fancybox-group=\"images\" data-fancybox-href=\"/spaceimages/images/mediumsize/PIA14316_ip.jpg\" data-link=\"/spaceimages/details.php?id=PIA14316\" data-title=\"Vesta Sizes Up\" id=\"full_image\">\n",
      "\t\t\t\t\tFULL IMAGE\n",
      "\t\t\t\t  </a>\n",
      "</footer>\n",
      "</div>\n",
      "<div class=\"gradient_container_top\"></div>\n",
      "<div class=\"gradient_container_bottom\"></div>\n",
      "</article>\n",
      "</div>\n",
      "</div>]\n"
     ]
    }
   ],
   "source": [
    "print(images)"
   ]
  },
  {
   "cell_type": "code",
   "execution_count": 8,
   "metadata": {},
   "outputs": [
    {
     "name": "stdout",
     "output_type": "stream",
     "text": [
      "/spaceimages/images/mediumsize/PIA14316_ip.jpg\n"
     ]
    }
   ],
   "source": [
    "for image in images:\n",
    "\n",
    "    image_url = image.a[\"data-fancybox-href\"]\n",
    "    print(image_url)\n",
    "    featured_image_url= \"https:/\" + image_url\n",
    "    \n",
    "    post={\n",
    "        \"Featured_Image_Url\": featured_image_url,        \n",
    "    }\n",
    "\n",
    "    "
   ]
  },
  {
   "cell_type": "code",
   "execution_count": 10,
   "metadata": {},
   "outputs": [
    {
     "name": "stdout",
     "output_type": "stream",
     "text": [
      "https://spaceimages/images/mediumsize/PIA14316_ip.jpg\n"
     ]
    }
   ],
   "source": [
    "print(featured_image_url)"
   ]
  },
  {
   "cell_type": "code",
   "execution_count": 11,
   "metadata": {
    "collapsed": true
   },
   "outputs": [],
   "source": [
    "twitter_url=\"https://twitter.com/marswxreport?lang=en\"\n",
    "# Retrieve page with the requests module\n",
    "response = requests.get(twitter_url)\n",
    "\n",
    "# Create BeautifulSoup object; parse with 'html.parser'\n",
    "soup = BeautifulSoup(response.text, 'html.parser')\n",
    "\n",
    "# Examine the results, then determine element that contains sought info\n",
    "# results are returned as an iterableli list\n",
    "tweets = soup.find_all('div',  class_='js-tweet-text-container', limit=1)"
   ]
  },
  {
   "cell_type": "code",
   "execution_count": 12,
   "metadata": {},
   "outputs": [
    {
     "name": "stdout",
     "output_type": "stream",
     "text": [
      "[<div class=\"js-tweet-text-container\">\n",
      "<p class=\"TweetTextSize TweetTextSize--normal js-tweet-text tweet-text\" data-aria-label-part=\"0\" lang=\"en\">Sol 1955 (Feb 04, 2018), Sunny, high -21C/-5F, low -77C/-106F, pressure at 7.45 hPa, daylight 05:41-17:27</p>\n",
      "</div>]\n"
     ]
    }
   ],
   "source": [
    "print(tweets)"
   ]
  },
  {
   "cell_type": "code",
   "execution_count": 13,
   "metadata": {},
   "outputs": [
    {
     "name": "stdout",
     "output_type": "stream",
     "text": [
      "Sol 1955 (Feb 04, 2018), Sunny, high -21C/-5F, low -77C/-106F, pressure at 7.45 hPa, daylight 05:41-17:27\n"
     ]
    }
   ],
   "source": [
    "for tweet in tweets:\n",
    "    mars_weather=tweet.find('p', class_=\"TweetTextSize TweetTextSize--normal js-tweet-text tweet-text\").text\n",
    "    print(mars_weather)\n",
    "    \n",
    "    post={\n",
    "        \"Mars_Weather\": mars_weather       \n",
    "    }"
   ]
  },
  {
   "cell_type": "code",
   "execution_count": null,
   "metadata": {
    "collapsed": true
   },
   "outputs": [],
   "source": []
  }
 ],
 "metadata": {
  "kernelspec": {
   "display_name": "Python 3",
   "language": "python",
   "name": "python3"
  },
  "language_info": {
   "codemirror_mode": {
    "name": "ipython",
    "version": 3
   },
   "file_extension": ".py",
   "mimetype": "text/x-python",
   "name": "python",
   "nbconvert_exporter": "python",
   "pygments_lexer": "ipython3",
   "version": "3.6.2"
  }
 },
 "nbformat": 4,
 "nbformat_minor": 2
}
